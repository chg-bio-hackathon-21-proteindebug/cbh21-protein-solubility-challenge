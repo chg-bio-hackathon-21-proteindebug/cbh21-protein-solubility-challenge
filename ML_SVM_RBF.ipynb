{
 "cells": [
  {
   "cell_type": "code",
   "execution_count": 4,
   "metadata": {},
   "outputs": [],
   "source": [
    "#install SciKit Learn using pip if you dont have it already\n",
    "#pip install -U scikit-learn\n",
    "\n",
    "#import modules\n",
    "from pandas import read_csv\n",
    "from sklearn.model_selection import GridSearchCV\n",
    "from sklearn.svm import SVR\n",
    "import joblib"
   ]
  },
  {
   "cell_type": "code",
   "execution_count": 2,
   "metadata": {},
   "outputs": [],
   "source": [
    "#load file function\n",
    "def load_train_file(file):\n",
    "    df = read_csv(file)\n",
    "\n",
    "    #Train data\n",
    "    X = df[df.columns[list(range(3,54))+list(range(57,117))]]\n",
    "    X = X.astype('float64')\n",
    "\n",
    "    #define y\n",
    "    y = df['Solubility Score']\n",
    "    print(X.shape)\n",
    "    print(y.shape)\n",
    "    return X, y"
   ]
  },
  {
   "cell_type": "code",
   "execution_count": null,
   "metadata": {},
   "outputs": [],
   "source": [
    "#SVM RBF\n",
    "\n",
    "#Hyper parameter optimization\n",
    "C_range = [0.0001, 0.001, 0.01, 0.1, 1, 10, 100, 1000]\n",
    "#C_range = [0.0001]\n",
    "#epsilon_range = [0.1]\n",
    "epsilon_range = [0, 0.01, 0.1, 0.5, 1, 2, 4]\n",
    "#gamma_range = [1e-10]\n",
    "gamma_range = [1e-10, 1e-9, 1e-8, 1e-7, 1e-6, 1e-5, 1e-4, 1e-3, 1e-2, 1e-1, 1e0, 1e1, 1e2]\n",
    "param_dict = {\"C\":C_range, \"epsilon\":epsilon_range, 'gamma': gamma_range}\n",
    "\n",
    "#cv = RepeatedStratifiedKFold(n_splits=5, n_repeats=10)\n",
    "\n",
    "#define model\n",
    "model = SVR(kernel='rbf')\n",
    "\n",
    "#scoring functions\n",
    "scoring = ['neg_mean_squared_error', 'r2']\n",
    "\n",
    "#grid search CV\n",
    "grid_search = GridSearchCV(model, param_grid=param_dict, cv=5, refit='neg_mean_squared_error', scoring=scoring,\n",
    "                           verbose=10, n_jobs=-1)\n",
    "m_f = grid_search.fit(X, y)\n",
    "\n",
    "print('best_estimator_', grid_search.best_estimator_)\n",
    "print('best_score_', grid_search.best_score_)\n",
    "print('best_params_', grid_search.best_params_)\n",
    "print('best_index_', grid_search.best_index_)\n",
    "print('scorer_', grid_search.scorer_)\n",
    "print('n_splits_', grid_search.n_splits_)\n",
    "print('refit_time_', grid_search.refit_time_)\n",
    "print('multimetric_', grid_search.multimetric_)\n",
    "print(grid_search.cv_results_['params'][grid_search.best_index_])\n",
    "print('best_mean_test_neg_mean_squared_error: ', \n",
    "      grid_search.cv_results_['mean_test_neg_mean_squared_error'][grid_search.best_index_])\n",
    "print('best_mean_test_r2: ', grid_search.cv_results_['mean_test_r2'][grid_search.best_index_])\n",
    "\n",
    "joblib.dump(m_f,\"SVM RBF.bin\")"
   ]
  }
 ],
 "metadata": {
  "kernelspec": {
   "display_name": "Python 3",
   "language": "python",
   "name": "python3"
  },
  "language_info": {
   "codemirror_mode": {
    "name": "ipython",
    "version": 3
   },
   "file_extension": ".py",
   "mimetype": "text/x-python",
   "name": "python",
   "nbconvert_exporter": "python",
   "pygments_lexer": "ipython3",
   "version": "3.7.6"
  }
 },
 "nbformat": 4,
 "nbformat_minor": 4
}
