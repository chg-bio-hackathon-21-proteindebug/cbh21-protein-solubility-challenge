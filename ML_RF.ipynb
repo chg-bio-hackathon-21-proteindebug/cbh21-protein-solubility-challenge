{
 "cells": [
  {
   "cell_type": "code",
   "execution_count": null,
   "metadata": {},
   "outputs": [],
   "source": [
    "#install SciKit Learn using pip if you dont have it already\n",
    "#pip install -U scikit-learn\n",
    "\n",
    "#import modules\n",
    "from pandas import read_csv\n",
    "from sklearn.model_selection import GridSearchCV\n",
    "from sklearn.ensemble import RandomForestRegressor\n",
    "import joblib"
   ]
  },
  {
   "cell_type": "code",
   "execution_count": null,
   "metadata": {},
   "outputs": [],
   "source": [
    "#load file function\n",
    "def load_train_file(file):\n",
    "    df = read_csv(file)\n",
    "\n",
    "    #Train data\n",
    "    X = df[df.columns[list(range(3,54))+list(range(57,117))]]\n",
    "    X = X.astype('float64')\n",
    "\n",
    "    #define y\n",
    "    y = df['Solubility Score'] #needs to change\n",
    "    print(X.shape)\n",
    "    print(y.shape)\n",
    "    return X, y"
   ]
  },
  {
   "cell_type": "code",
   "execution_count": null,
   "metadata": {},
   "outputs": [],
   "source": [
    "#define path to the file\n",
    "file = \"training_data.csv\"\n",
    "\n",
    "#define X and y\n",
    "X, y= load_train_file(file)"
   ]
  },
  {
   "cell_type": "code",
   "execution_count": null,
   "metadata": {},
   "outputs": [],
   "source": [
    "# Random Forest\n",
    "\n",
    "#Hyper parameter optimization\n",
    "\n",
    "max_depth = list(range(1,40))\n",
    "#max_depth = [5]\n",
    "min_samples_leaf = [0.01,0.05,0.1,0.15,0.2,0.25,0.3,0.35,0.4,0.45,0.5]\n",
    "#min_samples_leaf = [0.1]\n",
    "param_dict = {\"max_depth\":max_depth, 'min_samples_leaf': min_samples_leaf}\n",
    "\n",
    "#cv = RepeatedStratifiedKFold(n_splits=5, n_repeats=10)\n",
    "\n",
    "#define model\n",
    "model = RandomForestRegressor(n_estimators=200, criterion='mse', min_samples_split=2, \n",
    "                                 max_features='sqrt', max_leaf_nodes=None)\n",
    "\n",
    "#scoring functions\n",
    "scoring = ['neg_mean_squared_error', 'r2']\n",
    "\n",
    "#grid search CV\n",
    "grid_search = GridSearchCV(model, param_grid=param_dict, cv=5, refit='neg_mean_squared_error', scoring=scoring,\n",
    "                           verbose=10, n_jobs=-1)\n",
    "m_f = grid_search.fit(X, y)\n",
    "\n",
    "print('best_estimator_', grid_search.best_estimator_)\n",
    "print('best_score_', grid_search.best_score_)\n",
    "print('best_params_', grid_search.best_params_)\n",
    "print('best_index_', grid_search.best_index_)\n",
    "print('scorer_', grid_search.scorer_)\n",
    "print('n_splits_', grid_search.n_splits_)\n",
    "print('refit_time_', grid_search.refit_time_)\n",
    "print('multimetric_', grid_search.multimetric_)\n",
    "print(grid_search.cv_results_['params'][grid_search.best_index_])\n",
    "print('best_mean_test_neg_mean_squared_error: ', \n",
    "      grid_search.cv_results_['mean_test_neg_mean_squared_error'][grid_search.best_index_])\n",
    "print('best_mean_test_r2: ', grid_search.cv_results_['mean_test_r2'][grid_search.best_index_])\n",
    "\n",
    "joblib.dump(m_f,\"Random Forest.bin\")"
   ]
  }
 ],
 "metadata": {
  "kernelspec": {
   "display_name": "Python 3",
   "language": "python",
   "name": "python3"
  },
  "language_info": {
   "codemirror_mode": {
    "name": "ipython",
    "version": 3
   },
   "file_extension": ".py",
   "mimetype": "text/x-python",
   "name": "python",
   "nbconvert_exporter": "python",
   "pygments_lexer": "ipython3",
   "version": "3.7.6"
  }
 },
 "nbformat": 4,
 "nbformat_minor": 4
}
